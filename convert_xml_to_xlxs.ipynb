{
 "cells": [
  {
   "cell_type": "markdown",
   "id": "3ef64126-cc6d-4cdd-ba95-19f91da211db",
   "metadata": {},
   "source": [
    "# Converter xml em xlxs"
   ]
  },
  {
   "cell_type": "code",
   "execution_count": 15,
   "id": "50a3926a-c924-48c6-bd57-5076bfca33d2",
   "metadata": {},
   "outputs": [
    {
     "name": "stdout",
     "output_type": "stream",
     "text": [
      "end of job\n"
     ]
    }
   ],
   "source": [
    "import xml.etree.ElementTree as ET\n",
    "import pandas as pd\n",
    "\n",
    "# set mês de referência\n",
    "mes_ref = 'mai24'\n",
    "\n",
    "# Carregar o arquivo XML\n",
    "input_path = f\"nfse_{mes_ref}.xml\"\n",
    "tree = ET.parse(input_path)\n",
    "root = tree.getroot()\n",
    "\n",
    "# Namespace utilizado no XML\n",
    "ns = {\n",
    "    'ns2': \"http://www.w3.org/2000/09/xmldsig#\",\n",
    "    'ns3': \"http://www.ginfes.com.br/tipos\"\n",
    "}\n",
    "\n",
    "# Inicializando uma lista para coletar dados\n",
    "data = []\n",
    "\n",
    "# Iterar sobre cada NFSE no arquivo\n",
    "for nfse in root.findall('ns2:Nfse', ns):\n",
    "    # Extraindo informações de IdentificacaoNfse\n",
    "    identificacao = nfse.find('ns3:IdentificacaoNfse', ns)\n",
    "    numero = identificacao.find('ns3:Numero', ns).text\n",
    "    codigo_verificacao = identificacao.find('ns3:CodigoVerificacao', ns).text\n",
    "\n",
    "    # Data de emissão\n",
    "    data_emissao = nfse.find('ns3:DataEmissao', ns).text\n",
    "    \n",
    "    # Dados do serviço\n",
    "    servico = nfse.find('ns3:Servico', ns)\n",
    "    valores = servico.find('ns3:Valores', ns)\n",
    "    valor_servicos = valores.find('ns3:ValorServicos', ns).text\n",
    "    discriminacao = servico.find('ns3:Discriminacao', ns).text\n",
    "\n",
    "    # Dados do prestador\n",
    "    prestador = nfse.find('ns3:PrestadorServico', ns)\n",
    "    razao_social_prestador = prestador.find('ns3:RazaoSocial', ns).text\n",
    "    cnpj_prestador = prestador.find('ns3:IdentificacaoPrestador/ns3:Cnpj', ns).text\n",
    "\n",
    "    # Dados do tomador\n",
    "    tomador = nfse.find('ns3:TomadorServico', ns)\n",
    "    razao_social_tomador = tomador.find('ns3:RazaoSocial', ns).text\n",
    "    cpf_tomador = tomador.find('ns3:IdentificacaoTomador/ns3:CpfCnpj/ns3:Cpf', ns).text\n",
    "\n",
    "    # Coletando os dados em um dicionário\n",
    "    data.append({\n",
    "        \"Número\": numero,\n",
    "        \"Código de Verificação\": codigo_verificacao,\n",
    "        \"Data de Emissão\": data_emissao,\n",
    "        \"Valor dos Serviços\": valor_servicos,\n",
    "        \"Discriminação\": discriminacao,\n",
    "        \"Razão Social do Prestador\": razao_social_prestador,\n",
    "        \"CNPJ do Prestador\": cnpj_prestador,\n",
    "        \"Razão Social do Tomador\": razao_social_tomador,\n",
    "        \"CPF do Tomador\": cpf_tomador\n",
    "    })\n",
    "\n",
    "# Convertendo para DataFrame do Pandas\n",
    "df = pd.DataFrame(data)\n",
    "df['Valor dos Serviços'] = df['Valor dos Serviços'].astype(float).round(2)\n",
    "\n",
    "# Salvando em uma planilha Excel\n",
    "output_path = f\"nfse_{mes_ref}.xlsx\"\n",
    "df.to_excel(output_path, index=False)\n",
    "\n",
    "print('end of job')"
   ]
  },
  {
   "cell_type": "code",
   "execution_count": null,
   "id": "5579700e-59d7-49d5-96b4-4f7893420c97",
   "metadata": {},
   "outputs": [],
   "source": []
  }
 ],
 "metadata": {
  "kernelspec": {
   "display_name": "Python 3 (ipykernel)",
   "language": "python",
   "name": "python3"
  },
  "language_info": {
   "codemirror_mode": {
    "name": "ipython",
    "version": 3
   },
   "file_extension": ".py",
   "mimetype": "text/x-python",
   "name": "python",
   "nbconvert_exporter": "python",
   "pygments_lexer": "ipython3",
   "version": "3.11.7"
  }
 },
 "nbformat": 4,
 "nbformat_minor": 5
}
